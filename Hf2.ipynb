{
    "metadata": {
        "kernelspec": {
            "name": "SQL",
            "display_name": "SQL",
            "language": "sql"
        },
        "language_info": {
            "name": "sql",
            "version": ""
        }
    },
    "nbformat_minor": 2,
    "nbformat": 4,
    "cells": [
        {
            "cell_type": "code",
            "source": [
                "CREATE TABLE Vendeg_maszk (\r\n",
                "    USERNEV VARCHAR(100) MASKED WITH (FUNCTION = 'default()'),\r\n",
                "    NEV VARCHAR(100) MASKED WITH (FUNCTION = 'partial(1,\"XXX\",1)'),\r\n",
                "    EMAIL VARCHAR(100) MASKED WITH (FUNCTION = 'email()'),\r\n",
                "    SZAML_CIM VARCHAR(100) MASKED WITH ( FUNCTION = 'default()'),\r\n",
                "    SZUL_DAT DATE MASKED WITH (FUNCTION = 'random(1,10)')\r\n",
                ");\r\n",
                "INSERT INTO Vendeg_maszk (USERNEV, NEV, EMAIL, SZAML_CIM, SZUL_DAT)\r\n",
                "SELECT USERNEV, NEV, EMAIL, SZAML_CIM, SZUL_DAT\r\n",
                "FROM Vendeg;\r\n",
                "-- nem támogatják a randomot, de azért beleírtam egyet :("
            ],
            "metadata": {
                "azdata_cell_guid": "613e642e-1936-43aa-b4f1-30b0483f5d21",
                "language": "sql"
            },
            "outputs": [],
            "execution_count": null
        },
        {
            "cell_type": "code",
            "source": [
                "CREATE USER MaskUser WITHOUT Login;\r\n",
                "GRANT SELECT ON Vendeg_maszk TO MaskUser"
            ],
            "metadata": {
                "azdata_cell_guid": "1c9fb503-66e4-4d3e-b0ee-700984a4fd17",
                "language": "sql"
            },
            "outputs": [],
            "execution_count": null
        },
        {
            "cell_type": "code",
            "source": [
                "EXCECUTE AS User = 'MaskUser';\r\n",
                "SELECT * FROM Vendeg_maszk\r\n",
                "REVERT                                           "
            ],
            "metadata": {
                "azdata_cell_guid": "a7b60f2a-8842-4edc-b672-b71190d2c9f8",
                "language": "sql"
            },
            "outputs": [],
            "execution_count": null
        }
    ]
}