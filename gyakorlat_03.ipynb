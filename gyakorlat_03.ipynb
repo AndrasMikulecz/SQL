{
    "metadata": {
        "kernelspec": {
            "name": "SQL",
            "display_name": "SQL",
            "language": "sql"
        },
        "language_info": {
            "name": "sql",
            "version": ""
        }
    },
    "nbformat_minor": 2,
    "nbformat": 4,
    "cells": [
        {
            "cell_type": "code",
            "source": [
                "SELECT *\r\n",
                "        IF(MONTH(METTOL) >= 6 AND MONTH(METTOL) <= 8, 'Igen', 'Nem') AS 'Nyári-e'\r\n",
                "FROM Foglalas\r\n",
                "WHERE UGYFEL_FK = 'laszlo2' AND GYERMEK_SZAM = 0"
            ],
            "metadata": {
                "azdata_cell_guid": "9266e7ef-44b7-4448-b289-8175a26fb051",
                "language": "sql",
                "tags": []
            },
            "outputs": [
                {
                    "output_type": "error",
                    "evalue": "Msg 102, Level 15, State 1, Line 3\r\nIncorrect syntax near ','.",
                    "ename": "",
                    "traceback": []
                },
                {
                    "output_type": "display_data",
                    "data": {
                        "text/html": "Total execution time: 00:00:00.001"
                    },
                    "metadata": {}
                }
            ],
            "execution_count": 22
        },
        {
            "cell_type": "code",
            "source": [
                "SELECT szh.TIPUS, YEAR(f.METTOL) AS 'Év', MONTH(f.METTOL) AS 'Hónap'\r\n",
                " \r\n",
                "\r\n",
                " FROM Foglalas f JOIN Szoba sz ON f.SZOBA_FK = sz.SZOBA_ID \r\n",
                "                JOIN Szallashely szh ON sz.SZALLAS_FK = szh.SZALLAS_ID\r\n",
                " \r\n",
                "\r\n",
                "WHERE DATEDIFF(day, f.METTOL, f.MEDDIG) >=5\r\n",
                "GROUP BY szh.TIPUS, YEAR(f.METTOL), MONTH(f.METTOL)"
            ],
            "metadata": {
                "azdata_cell_guid": "a0fd214e-8319-477b-900b-5fb917c7e11d",
                "language": "sql"
            },
            "outputs": [
                {
                    "output_type": "display_data",
                    "data": {
                        "text/html": "(45 rows affected)"
                    },
                    "metadata": {}
                },
                {
                    "output_type": "display_data",
                    "data": {
                        "text/html": "Total execution time: 00:00:00.019"
                    },
                    "metadata": {}
                },
                {
                    "output_type": "execute_result",
                    "metadata": {},
                    "execution_count": 24,
                    "data": {
                        "application/vnd.dataresource+json": {
                            "schema": {
                                "fields": [
                                    {
                                        "name": "TIPUS"
                                    },
                                    {
                                        "name": "Év"
                                    },
                                    {
                                        "name": "Hónap"
                                    }
                                ]
                            },
                            "data": [
                                {
                                    "TIPUS": "Apartman",
                                    "Év": "2016",
                                    "Hónap": "4"
                                },
                                {
                                    "TIPUS": "Apartman",
                                    "Év": "2016",
                                    "Hónap": "5"
                                },
                                {
                                    "TIPUS": "Apartman",
                                    "Év": "2016",
                                    "Hónap": "6"
                                },
                                {
                                    "TIPUS": "Apartman",
                                    "Év": "2016",
                                    "Hónap": "7"
                                },
                                {
                                    "TIPUS": "Apartman",
                                    "Év": "2016",
                                    "Hónap": "8"
                                },
                                {
                                    "TIPUS": "Apartman",
                                    "Év": "2016",
                                    "Hónap": "9"
                                },
                                {
                                    "TIPUS": "Apartman",
                                    "Év": "2016",
                                    "Hónap": "10"
                                },
                                {
                                    "TIPUS": "Apartman",
                                    "Év": "2016",
                                    "Hónap": "11"
                                },
                                {
                                    "TIPUS": "Apartman",
                                    "Év": "2016",
                                    "Hónap": "12"
                                },
                                {
                                    "TIPUS": "Apartman",
                                    "Év": "2017",
                                    "Hónap": "1"
                                },
                                {
                                    "TIPUS": "Apartman",
                                    "Év": "2017",
                                    "Hónap": "2"
                                },
                                {
                                    "TIPUS": "Hotel",
                                    "Év": "2016",
                                    "Hónap": "4"
                                },
                                {
                                    "TIPUS": "Hotel",
                                    "Év": "2016",
                                    "Hónap": "5"
                                },
                                {
                                    "TIPUS": "Hotel",
                                    "Év": "2016",
                                    "Hónap": "6"
                                },
                                {
                                    "TIPUS": "Hotel",
                                    "Év": "2016",
                                    "Hónap": "7"
                                },
                                {
                                    "TIPUS": "Hotel",
                                    "Év": "2016",
                                    "Hónap": "8"
                                },
                                {
                                    "TIPUS": "Hotel",
                                    "Év": "2016",
                                    "Hónap": "9"
                                },
                                {
                                    "TIPUS": "Hotel",
                                    "Év": "2016",
                                    "Hónap": "10"
                                },
                                {
                                    "TIPUS": "Hotel",
                                    "Év": "2016",
                                    "Hónap": "11"
                                },
                                {
                                    "TIPUS": "Hotel",
                                    "Év": "2016",
                                    "Hónap": "12"
                                },
                                {
                                    "TIPUS": "Hotel",
                                    "Év": "2017",
                                    "Hónap": "1"
                                },
                                {
                                    "TIPUS": "Hotel",
                                    "Év": "2017",
                                    "Hónap": "2"
                                },
                                {
                                    "TIPUS": "Hotel",
                                    "Év": "2017",
                                    "Hónap": "3"
                                },
                                {
                                    "TIPUS": "panzió",
                                    "Év": "2016",
                                    "Hónap": "4"
                                },
                                {
                                    "TIPUS": "panzió",
                                    "Év": "2016",
                                    "Hónap": "5"
                                },
                                {
                                    "TIPUS": "panzió",
                                    "Év": "2016",
                                    "Hónap": "6"
                                },
                                {
                                    "TIPUS": "panzió",
                                    "Év": "2016",
                                    "Hónap": "7"
                                },
                                {
                                    "TIPUS": "panzió",
                                    "Év": "2016",
                                    "Hónap": "8"
                                },
                                {
                                    "TIPUS": "panzió",
                                    "Év": "2016",
                                    "Hónap": "9"
                                },
                                {
                                    "TIPUS": "panzió",
                                    "Év": "2016",
                                    "Hónap": "10"
                                },
                                {
                                    "TIPUS": "panzió",
                                    "Év": "2016",
                                    "Hónap": "11"
                                },
                                {
                                    "TIPUS": "panzió",
                                    "Év": "2016",
                                    "Hónap": "12"
                                },
                                {
                                    "TIPUS": "panzió",
                                    "Év": "2017",
                                    "Hónap": "1"
                                },
                                {
                                    "TIPUS": "panzió",
                                    "Év": "2017",
                                    "Hónap": "2"
                                },
                                {
                                    "TIPUS": "panzió",
                                    "Év": "2017",
                                    "Hónap": "3"
                                },
                                {
                                    "TIPUS": "vendégház",
                                    "Év": "2016",
                                    "Hónap": "4"
                                },
                                {
                                    "TIPUS": "vendégház",
                                    "Év": "2016",
                                    "Hónap": "5"
                                },
                                {
                                    "TIPUS": "vendégház",
                                    "Év": "2016",
                                    "Hónap": "6"
                                },
                                {
                                    "TIPUS": "vendégház",
                                    "Év": "2016",
                                    "Hónap": "7"
                                },
                                {
                                    "TIPUS": "vendégház",
                                    "Év": "2016",
                                    "Hónap": "8"
                                },
                                {
                                    "TIPUS": "vendégház",
                                    "Év": "2016",
                                    "Hónap": "9"
                                },
                                {
                                    "TIPUS": "vendégház",
                                    "Év": "2016",
                                    "Hónap": "10"
                                },
                                {
                                    "TIPUS": "vendégház",
                                    "Év": "2016",
                                    "Hónap": "11"
                                },
                                {
                                    "TIPUS": "vendégház",
                                    "Év": "2017",
                                    "Hónap": "1"
                                },
                                {
                                    "TIPUS": "vendégház",
                                    "Év": "2017",
                                    "Hónap": "2"
                                }
                            ]
                        },
                        "text/html": [
                            "<table>",
                            "<tr><th>TIPUS</th><th>Év</th><th>Hónap</th></tr>",
                            "<tr><td>Apartman</td><td>2016</td><td>4</td></tr>",
                            "<tr><td>Apartman</td><td>2016</td><td>5</td></tr>",
                            "<tr><td>Apartman</td><td>2016</td><td>6</td></tr>",
                            "<tr><td>Apartman</td><td>2016</td><td>7</td></tr>",
                            "<tr><td>Apartman</td><td>2016</td><td>8</td></tr>",
                            "<tr><td>Apartman</td><td>2016</td><td>9</td></tr>",
                            "<tr><td>Apartman</td><td>2016</td><td>10</td></tr>",
                            "<tr><td>Apartman</td><td>2016</td><td>11</td></tr>",
                            "<tr><td>Apartman</td><td>2016</td><td>12</td></tr>",
                            "<tr><td>Apartman</td><td>2017</td><td>1</td></tr>",
                            "<tr><td>Apartman</td><td>2017</td><td>2</td></tr>",
                            "<tr><td>Hotel</td><td>2016</td><td>4</td></tr>",
                            "<tr><td>Hotel</td><td>2016</td><td>5</td></tr>",
                            "<tr><td>Hotel</td><td>2016</td><td>6</td></tr>",
                            "<tr><td>Hotel</td><td>2016</td><td>7</td></tr>",
                            "<tr><td>Hotel</td><td>2016</td><td>8</td></tr>",
                            "<tr><td>Hotel</td><td>2016</td><td>9</td></tr>",
                            "<tr><td>Hotel</td><td>2016</td><td>10</td></tr>",
                            "<tr><td>Hotel</td><td>2016</td><td>11</td></tr>",
                            "<tr><td>Hotel</td><td>2016</td><td>12</td></tr>",
                            "<tr><td>Hotel</td><td>2017</td><td>1</td></tr>",
                            "<tr><td>Hotel</td><td>2017</td><td>2</td></tr>",
                            "<tr><td>Hotel</td><td>2017</td><td>3</td></tr>",
                            "<tr><td>panzió</td><td>2016</td><td>4</td></tr>",
                            "<tr><td>panzió</td><td>2016</td><td>5</td></tr>",
                            "<tr><td>panzió</td><td>2016</td><td>6</td></tr>",
                            "<tr><td>panzió</td><td>2016</td><td>7</td></tr>",
                            "<tr><td>panzió</td><td>2016</td><td>8</td></tr>",
                            "<tr><td>panzió</td><td>2016</td><td>9</td></tr>",
                            "<tr><td>panzió</td><td>2016</td><td>10</td></tr>",
                            "<tr><td>panzió</td><td>2016</td><td>11</td></tr>",
                            "<tr><td>panzió</td><td>2016</td><td>12</td></tr>",
                            "<tr><td>panzió</td><td>2017</td><td>1</td></tr>",
                            "<tr><td>panzió</td><td>2017</td><td>2</td></tr>",
                            "<tr><td>panzió</td><td>2017</td><td>3</td></tr>",
                            "<tr><td>vendégház</td><td>2016</td><td>4</td></tr>",
                            "<tr><td>vendégház</td><td>2016</td><td>5</td></tr>",
                            "<tr><td>vendégház</td><td>2016</td><td>6</td></tr>",
                            "<tr><td>vendégház</td><td>2016</td><td>7</td></tr>",
                            "<tr><td>vendégház</td><td>2016</td><td>8</td></tr>",
                            "<tr><td>vendégház</td><td>2016</td><td>9</td></tr>",
                            "<tr><td>vendégház</td><td>2016</td><td>10</td></tr>",
                            "<tr><td>vendégház</td><td>2016</td><td>11</td></tr>",
                            "<tr><td>vendégház</td><td>2017</td><td>1</td></tr>",
                            "<tr><td>vendégház</td><td>2017</td><td>2</td></tr>",
                            "</table>"
                        ]
                    }
                }
            ],
            "execution_count": 24
        }
    ]
}