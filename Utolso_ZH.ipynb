{
    "metadata": {
        "kernelspec": {
            "name": "SQL",
            "display_name": "SQL",
            "language": "sql"
        },
        "language_info": {
            "name": "sql",
            "version": ""
        }
    },
    "nbformat_minor": 2,
    "nbformat": 4,
    "cells": [
        {
            "cell_type": "code",
            "source": [
                "SELECT sz.SZOBA_ID, COUNT(f.SZOBA_FK) AS 'db'\r\n",
                "FROM Szoba sz JOIN Foglalas f ON sz.SZOBA_ID = f.SZOBA_FK\r\n",
                "GROUP BY sz.SZOBA_ID\r\n",
                "ORDER BY sz.SZOBA_ID;"
            ],
            "metadata": {
                "azdata_cell_guid": "8814a3b4-755b-4a97-a7b4-f210a5743171",
                "language": "sql"
            },
            "outputs": [
                {
                    "output_type": "display_data",
                    "data": {
                        "text/html": "(197 rows affected)"
                    },
                    "metadata": {}
                },
                {
                    "output_type": "display_data",
                    "data": {
                        "text/html": "Total execution time: 00:00:00.043"
                    },
                    "metadata": {}
                },
                {
                    "output_type": "execute_result",
                    "metadata": {},
                    "execution_count": 8,
                    "data": {
                        "application/vnd.dataresource+json": {
                            "schema": {
                                "fields": [
                                    {
                                        "name": "SZOBA_ID"
                                    },
                                    {
                                        "name": "db"
                                    }
                                ]
                            },
                            "data": [
                                {
                                    "SZOBA_ID": "1",
                                    "db": "8"
                                },
                                {
                                    "SZOBA_ID": "2",
                                    "db": "4"
                                },
                                {
                                    "SZOBA_ID": "3",
                                    "db": "8"
                                },
                                {
                                    "SZOBA_ID": "4",
                                    "db": "6"
                                },
                                {
                                    "SZOBA_ID": "5",
                                    "db": "4"
                                },
                                {
                                    "SZOBA_ID": "6",
                                    "db": "6"
                                },
                                {
                                    "SZOBA_ID": "7",
                                    "db": "6"
                                },
                                {
                                    "SZOBA_ID": "8",
                                    "db": "5"
                                },
                                {
                                    "SZOBA_ID": "9",
                                    "db": "6"
                                },
                                {
                                    "SZOBA_ID": "10",
                                    "db": "4"
                                },
                                {
                                    "SZOBA_ID": "11",
                                    "db": "4"
                                },
                                {
                                    "SZOBA_ID": "12",
                                    "db": "9"
                                },
                                {
                                    "SZOBA_ID": "13",
                                    "db": "4"
                                },
                                {
                                    "SZOBA_ID": "14",
                                    "db": "3"
                                },
                                {
                                    "SZOBA_ID": "15",
                                    "db": "6"
                                },
                                {
                                    "SZOBA_ID": "16",
                                    "db": "5"
                                },
                                {
                                    "SZOBA_ID": "17",
                                    "db": "6"
                                },
                                {
                                    "SZOBA_ID": "18",
                                    "db": "6"
                                },
                                {
                                    "SZOBA_ID": "19",
                                    "db": "6"
                                },
                                {
                                    "SZOBA_ID": "20",
                                    "db": "5"
                                },
                                {
                                    "SZOBA_ID": "21",
                                    "db": "4"
                                },
                                {
                                    "SZOBA_ID": "22",
                                    "db": "6"
                                },
                                {
                                    "SZOBA_ID": "23",
                                    "db": "3"
                                },
                                {
                                    "SZOBA_ID": "24",
                                    "db": "3"
                                },
                                {
                                    "SZOBA_ID": "25",
                                    "db": "2"
                                },
                                {
                                    "SZOBA_ID": "26",
                                    "db": "2"
                                },
                                {
                                    "SZOBA_ID": "27",
                                    "db": "7"
                                },
                                {
                                    "SZOBA_ID": "28",
                                    "db": "6"
                                },
                                {
                                    "SZOBA_ID": "29",
                                    "db": "6"
                                },
                                {
                                    "SZOBA_ID": "30",
                                    "db": "3"
                                },
                                {
                                    "SZOBA_ID": "31",
                                    "db": "3"
                                },
                                {
                                    "SZOBA_ID": "32",
                                    "db": "1"
                                },
                                {
                                    "SZOBA_ID": "33",
                                    "db": "6"
                                },
                                {
                                    "SZOBA_ID": "34",
                                    "db": "4"
                                },
                                {
                                    "SZOBA_ID": "35",
                                    "db": "9"
                                },
                                {
                                    "SZOBA_ID": "36",
                                    "db": "6"
                                },
                                {
                                    "SZOBA_ID": "37",
                                    "db": "3"
                                },
                                {
                                    "SZOBA_ID": "38",
                                    "db": "8"
                                },
                                {
                                    "SZOBA_ID": "39",
                                    "db": "7"
                                },
                                {
                                    "SZOBA_ID": "40",
                                    "db": "4"
                                },
                                {
                                    "SZOBA_ID": "41",
                                    "db": "2"
                                },
                                {
                                    "SZOBA_ID": "42",
                                    "db": "6"
                                },
                                {
                                    "SZOBA_ID": "43",
                                    "db": "8"
                                },
                                {
                                    "SZOBA_ID": "44",
                                    "db": "6"
                                },
                                {
                                    "SZOBA_ID": "45",
                                    "db": "5"
                                },
                                {
                                    "SZOBA_ID": "46",
                                    "db": "4"
                                },
                                {
                                    "SZOBA_ID": "47",
                                    "db": "2"
                                },
                                {
                                    "SZOBA_ID": "48",
                                    "db": "9"
                                },
                                {
                                    "SZOBA_ID": "49",
                                    "db": "7"
                                },
                                {
                                    "SZOBA_ID": "50",
                                    "db": "4"
                                },
                                {
                                    "SZOBA_ID": "51",
                                    "db": "5"
                                },
                                {
                                    "SZOBA_ID": "52",
                                    "db": "5"
                                },
                                {
                                    "SZOBA_ID": "53",
                                    "db": "2"
                                },
                                {
                                    "SZOBA_ID": "54",
                                    "db": "6"
                                },
                                {
                                    "SZOBA_ID": "55",
                                    "db": "8"
                                },
                                {
                                    "SZOBA_ID": "56",
                                    "db": "2"
                                },
                                {
                                    "SZOBA_ID": "57",
                                    "db": "4"
                                },
                                {
                                    "SZOBA_ID": "58",
                                    "db": "13"
                                },
                                {
                                    "SZOBA_ID": "59",
                                    "db": "7"
                                },
                                {
                                    "SZOBA_ID": "60",
                                    "db": "1"
                                },
                                {
                                    "SZOBA_ID": "61",
                                    "db": "5"
                                },
                                {
                                    "SZOBA_ID": "62",
                                    "db": "5"
                                },
                                {
                                    "SZOBA_ID": "63",
                                    "db": "4"
                                },
                                {
                                    "SZOBA_ID": "64",
                                    "db": "6"
                                },
                                {
                                    "SZOBA_ID": "65",
                                    "db": "1"
                                },
                                {
                                    "SZOBA_ID": "66",
                                    "db": "4"
                                },
                                {
                                    "SZOBA_ID": "67",
                                    "db": "6"
                                },
                                {
                                    "SZOBA_ID": "68",
                                    "db": "3"
                                },
                                {
                                    "SZOBA_ID": "69",
                                    "db": "4"
                                },
                                {
                                    "SZOBA_ID": "70",
                                    "db": "11"
                                },
                                {
                                    "SZOBA_ID": "71",
                                    "db": "3"
                                },
                                {
                                    "SZOBA_ID": "72",
                                    "db": "4"
                                },
                                {
                                    "SZOBA_ID": "73",
                                    "db": "4"
                                },
                                {
                                    "SZOBA_ID": "74",
                                    "db": "9"
                                },
                                {
                                    "SZOBA_ID": "75",
                                    "db": "3"
                                },
                                {
                                    "SZOBA_ID": "76",
                                    "db": "3"
                                },
                                {
                                    "SZOBA_ID": "77",
                                    "db": "6"
                                },
                                {
                                    "SZOBA_ID": "78",
                                    "db": "6"
                                },
                                {
                                    "SZOBA_ID": "79",
                                    "db": "5"
                                },
                                {
                                    "SZOBA_ID": "80",
                                    "db": "7"
                                },
                                {
                                    "SZOBA_ID": "81",
                                    "db": "5"
                                },
                                {
                                    "SZOBA_ID": "82",
                                    "db": "6"
                                },
                                {
                                    "SZOBA_ID": "83",
                                    "db": "8"
                                },
                                {
                                    "SZOBA_ID": "84",
                                    "db": "4"
                                },
                                {
                                    "SZOBA_ID": "85",
                                    "db": "4"
                                },
                                {
                                    "SZOBA_ID": "86",
                                    "db": "5"
                                },
                                {
                                    "SZOBA_ID": "87",
                                    "db": "5"
                                },
                                {
                                    "SZOBA_ID": "88",
                                    "db": "8"
                                },
                                {
                                    "SZOBA_ID": "89",
                                    "db": "8"
                                },
                                {
                                    "SZOBA_ID": "90",
                                    "db": "4"
                                },
                                {
                                    "SZOBA_ID": "91",
                                    "db": "4"
                                },
                                {
                                    "SZOBA_ID": "92",
                                    "db": "6"
                                },
                                {
                                    "SZOBA_ID": "93",
                                    "db": "5"
                                },
                                {
                                    "SZOBA_ID": "94",
                                    "db": "10"
                                },
                                {
                                    "SZOBA_ID": "95",
                                    "db": "4"
                                },
                                {
                                    "SZOBA_ID": "96",
                                    "db": "7"
                                },
                                {
                                    "SZOBA_ID": "97",
                                    "db": "7"
                                },
                                {
                                    "SZOBA_ID": "98",
                                    "db": "4"
                                },
                                {
                                    "SZOBA_ID": "99",
                                    "db": "5"
                                },
                                {
                                    "SZOBA_ID": "100",
                                    "db": "4"
                                },
                                {
                                    "SZOBA_ID": "101",
                                    "db": "3"
                                },
                                {
                                    "SZOBA_ID": "102",
                                    "db": "2"
                                },
                                {
                                    "SZOBA_ID": "103",
                                    "db": "4"
                                },
                                {
                                    "SZOBA_ID": "104",
                                    "db": "4"
                                },
                                {
                                    "SZOBA_ID": "105",
                                    "db": "2"
                                },
                                {
                                    "SZOBA_ID": "106",
                                    "db": "6"
                                },
                                {
                                    "SZOBA_ID": "107",
                                    "db": "5"
                                },
                                {
                                    "SZOBA_ID": "108",
                                    "db": "2"
                                },
                                {
                                    "SZOBA_ID": "109",
                                    "db": "7"
                                },
                                {
                                    "SZOBA_ID": "110",
                                    "db": "8"
                                },
                                {
                                    "SZOBA_ID": "111",
                                    "db": "5"
                                },
                                {
                                    "SZOBA_ID": "112",
                                    "db": "5"
                                },
                                {
                                    "SZOBA_ID": "113",
                                    "db": "5"
                                },
                                {
                                    "SZOBA_ID": "114",
                                    "db": "4"
                                },
                                {
                                    "SZOBA_ID": "115",
                                    "db": "7"
                                },
                                {
                                    "SZOBA_ID": "116",
                                    "db": "2"
                                },
                                {
                                    "SZOBA_ID": "117",
                                    "db": "8"
                                },
                                {
                                    "SZOBA_ID": "118",
                                    "db": "7"
                                },
                                {
                                    "SZOBA_ID": "119",
                                    "db": "5"
                                },
                                {
                                    "SZOBA_ID": "120",
                                    "db": "6"
                                },
                                {
                                    "SZOBA_ID": "121",
                                    "db": "8"
                                },
                                {
                                    "SZOBA_ID": "122",
                                    "db": "9"
                                },
                                {
                                    "SZOBA_ID": "123",
                                    "db": "5"
                                },
                                {
                                    "SZOBA_ID": "124",
                                    "db": "6"
                                },
                                {
                                    "SZOBA_ID": "125",
                                    "db": "1"
                                },
                                {
                                    "SZOBA_ID": "126",
                                    "db": "6"
                                },
                                {
                                    "SZOBA_ID": "127",
                                    "db": "7"
                                },
                                {
                                    "SZOBA_ID": "128",
                                    "db": "5"
                                },
                                {
                                    "SZOBA_ID": "129",
                                    "db": "4"
                                },
                                {
                                    "SZOBA_ID": "130",
                                    "db": "6"
                                },
                                {
                                    "SZOBA_ID": "131",
                                    "db": "5"
                                },
                                {
                                    "SZOBA_ID": "132",
                                    "db": "6"
                                },
                                {
                                    "SZOBA_ID": "133",
                                    "db": "6"
                                },
                                {
                                    "SZOBA_ID": "134",
                                    "db": "6"
                                },
                                {
                                    "SZOBA_ID": "135",
                                    "db": "3"
                                },
                                {
                                    "SZOBA_ID": "136",
                                    "db": "3"
                                },
                                {
                                    "SZOBA_ID": "137",
                                    "db": "6"
                                },
                                {
                                    "SZOBA_ID": "138",
                                    "db": "7"
                                },
                                {
                                    "SZOBA_ID": "139",
                                    "db": "7"
                                },
                                {
                                    "SZOBA_ID": "140",
                                    "db": "8"
                                },
                                {
                                    "SZOBA_ID": "141",
                                    "db": "6"
                                },
                                {
                                    "SZOBA_ID": "142",
                                    "db": "2"
                                },
                                {
                                    "SZOBA_ID": "143",
                                    "db": "7"
                                },
                                {
                                    "SZOBA_ID": "144",
                                    "db": "5"
                                },
                                {
                                    "SZOBA_ID": "145",
                                    "db": "6"
                                },
                                {
                                    "SZOBA_ID": "146",
                                    "db": "6"
                                },
                                {
                                    "SZOBA_ID": "147",
                                    "db": "1"
                                },
                                {
                                    "SZOBA_ID": "148",
                                    "db": "6"
                                },
                                {
                                    "SZOBA_ID": "149",
                                    "db": "7"
                                },
                                {
                                    "SZOBA_ID": "150",
                                    "db": "6"
                                },
                                {
                                    "SZOBA_ID": "151",
                                    "db": "3"
                                },
                                {
                                    "SZOBA_ID": "152",
                                    "db": "4"
                                },
                                {
                                    "SZOBA_ID": "153",
                                    "db": "5"
                                },
                                {
                                    "SZOBA_ID": "154",
                                    "db": "5"
                                },
                                {
                                    "SZOBA_ID": "155",
                                    "db": "5"
                                },
                                {
                                    "SZOBA_ID": "156",
                                    "db": "7"
                                },
                                {
                                    "SZOBA_ID": "157",
                                    "db": "5"
                                },
                                {
                                    "SZOBA_ID": "158",
                                    "db": "3"
                                },
                                {
                                    "SZOBA_ID": "160",
                                    "db": "5"
                                },
                                {
                                    "SZOBA_ID": "161",
                                    "db": "6"
                                },
                                {
                                    "SZOBA_ID": "162",
                                    "db": "3"
                                },
                                {
                                    "SZOBA_ID": "163",
                                    "db": "7"
                                },
                                {
                                    "SZOBA_ID": "164",
                                    "db": "5"
                                },
                                {
                                    "SZOBA_ID": "165",
                                    "db": "7"
                                },
                                {
                                    "SZOBA_ID": "166",
                                    "db": "3"
                                },
                                {
                                    "SZOBA_ID": "167",
                                    "db": "2"
                                },
                                {
                                    "SZOBA_ID": "168",
                                    "db": "5"
                                },
                                {
                                    "SZOBA_ID": "169",
                                    "db": "6"
                                },
                                {
                                    "SZOBA_ID": "170",
                                    "db": "5"
                                },
                                {
                                    "SZOBA_ID": "171",
                                    "db": "5"
                                },
                                {
                                    "SZOBA_ID": "172",
                                    "db": "9"
                                },
                                {
                                    "SZOBA_ID": "173",
                                    "db": "4"
                                },
                                {
                                    "SZOBA_ID": "174",
                                    "db": "4"
                                },
                                {
                                    "SZOBA_ID": "175",
                                    "db": "5"
                                },
                                {
                                    "SZOBA_ID": "176",
                                    "db": "6"
                                },
                                {
                                    "SZOBA_ID": "177",
                                    "db": "4"
                                },
                                {
                                    "SZOBA_ID": "178",
                                    "db": "4"
                                },
                                {
                                    "SZOBA_ID": "179",
                                    "db": "3"
                                },
                                {
                                    "SZOBA_ID": "180",
                                    "db": "3"
                                },
                                {
                                    "SZOBA_ID": "181",
                                    "db": "6"
                                },
                                {
                                    "SZOBA_ID": "182",
                                    "db": "12"
                                },
                                {
                                    "SZOBA_ID": "183",
                                    "db": "4"
                                },
                                {
                                    "SZOBA_ID": "184",
                                    "db": "4"
                                },
                                {
                                    "SZOBA_ID": "185",
                                    "db": "12"
                                },
                                {
                                    "SZOBA_ID": "186",
                                    "db": "4"
                                },
                                {
                                    "SZOBA_ID": "187",
                                    "db": "7"
                                },
                                {
                                    "SZOBA_ID": "188",
                                    "db": "6"
                                },
                                {
                                    "SZOBA_ID": "189",
                                    "db": "5"
                                },
                                {
                                    "SZOBA_ID": "190",
                                    "db": "5"
                                },
                                {
                                    "SZOBA_ID": "191",
                                    "db": "5"
                                },
                                {
                                    "SZOBA_ID": "192",
                                    "db": "2"
                                },
                                {
                                    "SZOBA_ID": "193",
                                    "db": "7"
                                },
                                {
                                    "SZOBA_ID": "194",
                                    "db": "1"
                                },
                                {
                                    "SZOBA_ID": "195",
                                    "db": "6"
                                },
                                {
                                    "SZOBA_ID": "196",
                                    "db": "4"
                                },
                                {
                                    "SZOBA_ID": "197",
                                    "db": "6"
                                },
                                {
                                    "SZOBA_ID": "198",
                                    "db": "8"
                                }
                            ]
                        },
                        "text/html": [
                            "<table>",
                            "<tr><th>SZOBA_ID</th><th>db</th></tr>",
                            "<tr><td>1</td><td>8</td></tr>",
                            "<tr><td>2</td><td>4</td></tr>",
                            "<tr><td>3</td><td>8</td></tr>",
                            "<tr><td>4</td><td>6</td></tr>",
                            "<tr><td>5</td><td>4</td></tr>",
                            "<tr><td>6</td><td>6</td></tr>",
                            "<tr><td>7</td><td>6</td></tr>",
                            "<tr><td>8</td><td>5</td></tr>",
                            "<tr><td>9</td><td>6</td></tr>",
                            "<tr><td>10</td><td>4</td></tr>",
                            "<tr><td>11</td><td>4</td></tr>",
                            "<tr><td>12</td><td>9</td></tr>",
                            "<tr><td>13</td><td>4</td></tr>",
                            "<tr><td>14</td><td>3</td></tr>",
                            "<tr><td>15</td><td>6</td></tr>",
                            "<tr><td>16</td><td>5</td></tr>",
                            "<tr><td>17</td><td>6</td></tr>",
                            "<tr><td>18</td><td>6</td></tr>",
                            "<tr><td>19</td><td>6</td></tr>",
                            "<tr><td>20</td><td>5</td></tr>",
                            "<tr><td>21</td><td>4</td></tr>",
                            "<tr><td>22</td><td>6</td></tr>",
                            "<tr><td>23</td><td>3</td></tr>",
                            "<tr><td>24</td><td>3</td></tr>",
                            "<tr><td>25</td><td>2</td></tr>",
                            "<tr><td>26</td><td>2</td></tr>",
                            "<tr><td>27</td><td>7</td></tr>",
                            "<tr><td>28</td><td>6</td></tr>",
                            "<tr><td>29</td><td>6</td></tr>",
                            "<tr><td>30</td><td>3</td></tr>",
                            "<tr><td>31</td><td>3</td></tr>",
                            "<tr><td>32</td><td>1</td></tr>",
                            "<tr><td>33</td><td>6</td></tr>",
                            "<tr><td>34</td><td>4</td></tr>",
                            "<tr><td>35</td><td>9</td></tr>",
                            "<tr><td>36</td><td>6</td></tr>",
                            "<tr><td>37</td><td>3</td></tr>",
                            "<tr><td>38</td><td>8</td></tr>",
                            "<tr><td>39</td><td>7</td></tr>",
                            "<tr><td>40</td><td>4</td></tr>",
                            "<tr><td>41</td><td>2</td></tr>",
                            "<tr><td>42</td><td>6</td></tr>",
                            "<tr><td>43</td><td>8</td></tr>",
                            "<tr><td>44</td><td>6</td></tr>",
                            "<tr><td>45</td><td>5</td></tr>",
                            "<tr><td>46</td><td>4</td></tr>",
                            "<tr><td>47</td><td>2</td></tr>",
                            "<tr><td>48</td><td>9</td></tr>",
                            "<tr><td>49</td><td>7</td></tr>",
                            "<tr><td>50</td><td>4</td></tr>",
                            "<tr><td>51</td><td>5</td></tr>",
                            "<tr><td>52</td><td>5</td></tr>",
                            "<tr><td>53</td><td>2</td></tr>",
                            "<tr><td>54</td><td>6</td></tr>",
                            "<tr><td>55</td><td>8</td></tr>",
                            "<tr><td>56</td><td>2</td></tr>",
                            "<tr><td>57</td><td>4</td></tr>",
                            "<tr><td>58</td><td>13</td></tr>",
                            "<tr><td>59</td><td>7</td></tr>",
                            "<tr><td>60</td><td>1</td></tr>",
                            "<tr><td>61</td><td>5</td></tr>",
                            "<tr><td>62</td><td>5</td></tr>",
                            "<tr><td>63</td><td>4</td></tr>",
                            "<tr><td>64</td><td>6</td></tr>",
                            "<tr><td>65</td><td>1</td></tr>",
                            "<tr><td>66</td><td>4</td></tr>",
                            "<tr><td>67</td><td>6</td></tr>",
                            "<tr><td>68</td><td>3</td></tr>",
                            "<tr><td>69</td><td>4</td></tr>",
                            "<tr><td>70</td><td>11</td></tr>",
                            "<tr><td>71</td><td>3</td></tr>",
                            "<tr><td>72</td><td>4</td></tr>",
                            "<tr><td>73</td><td>4</td></tr>",
                            "<tr><td>74</td><td>9</td></tr>",
                            "<tr><td>75</td><td>3</td></tr>",
                            "<tr><td>76</td><td>3</td></tr>",
                            "<tr><td>77</td><td>6</td></tr>",
                            "<tr><td>78</td><td>6</td></tr>",
                            "<tr><td>79</td><td>5</td></tr>",
                            "<tr><td>80</td><td>7</td></tr>",
                            "<tr><td>81</td><td>5</td></tr>",
                            "<tr><td>82</td><td>6</td></tr>",
                            "<tr><td>83</td><td>8</td></tr>",
                            "<tr><td>84</td><td>4</td></tr>",
                            "<tr><td>85</td><td>4</td></tr>",
                            "<tr><td>86</td><td>5</td></tr>",
                            "<tr><td>87</td><td>5</td></tr>",
                            "<tr><td>88</td><td>8</td></tr>",
                            "<tr><td>89</td><td>8</td></tr>",
                            "<tr><td>90</td><td>4</td></tr>",
                            "<tr><td>91</td><td>4</td></tr>",
                            "<tr><td>92</td><td>6</td></tr>",
                            "<tr><td>93</td><td>5</td></tr>",
                            "<tr><td>94</td><td>10</td></tr>",
                            "<tr><td>95</td><td>4</td></tr>",
                            "<tr><td>96</td><td>7</td></tr>",
                            "<tr><td>97</td><td>7</td></tr>",
                            "<tr><td>98</td><td>4</td></tr>",
                            "<tr><td>99</td><td>5</td></tr>",
                            "<tr><td>100</td><td>4</td></tr>",
                            "<tr><td>101</td><td>3</td></tr>",
                            "<tr><td>102</td><td>2</td></tr>",
                            "<tr><td>103</td><td>4</td></tr>",
                            "<tr><td>104</td><td>4</td></tr>",
                            "<tr><td>105</td><td>2</td></tr>",
                            "<tr><td>106</td><td>6</td></tr>",
                            "<tr><td>107</td><td>5</td></tr>",
                            "<tr><td>108</td><td>2</td></tr>",
                            "<tr><td>109</td><td>7</td></tr>",
                            "<tr><td>110</td><td>8</td></tr>",
                            "<tr><td>111</td><td>5</td></tr>",
                            "<tr><td>112</td><td>5</td></tr>",
                            "<tr><td>113</td><td>5</td></tr>",
                            "<tr><td>114</td><td>4</td></tr>",
                            "<tr><td>115</td><td>7</td></tr>",
                            "<tr><td>116</td><td>2</td></tr>",
                            "<tr><td>117</td><td>8</td></tr>",
                            "<tr><td>118</td><td>7</td></tr>",
                            "<tr><td>119</td><td>5</td></tr>",
                            "<tr><td>120</td><td>6</td></tr>",
                            "<tr><td>121</td><td>8</td></tr>",
                            "<tr><td>122</td><td>9</td></tr>",
                            "<tr><td>123</td><td>5</td></tr>",
                            "<tr><td>124</td><td>6</td></tr>",
                            "<tr><td>125</td><td>1</td></tr>",
                            "<tr><td>126</td><td>6</td></tr>",
                            "<tr><td>127</td><td>7</td></tr>",
                            "<tr><td>128</td><td>5</td></tr>",
                            "<tr><td>129</td><td>4</td></tr>",
                            "<tr><td>130</td><td>6</td></tr>",
                            "<tr><td>131</td><td>5</td></tr>",
                            "<tr><td>132</td><td>6</td></tr>",
                            "<tr><td>133</td><td>6</td></tr>",
                            "<tr><td>134</td><td>6</td></tr>",
                            "<tr><td>135</td><td>3</td></tr>",
                            "<tr><td>136</td><td>3</td></tr>",
                            "<tr><td>137</td><td>6</td></tr>",
                            "<tr><td>138</td><td>7</td></tr>",
                            "<tr><td>139</td><td>7</td></tr>",
                            "<tr><td>140</td><td>8</td></tr>",
                            "<tr><td>141</td><td>6</td></tr>",
                            "<tr><td>142</td><td>2</td></tr>",
                            "<tr><td>143</td><td>7</td></tr>",
                            "<tr><td>144</td><td>5</td></tr>",
                            "<tr><td>145</td><td>6</td></tr>",
                            "<tr><td>146</td><td>6</td></tr>",
                            "<tr><td>147</td><td>1</td></tr>",
                            "<tr><td>148</td><td>6</td></tr>",
                            "<tr><td>149</td><td>7</td></tr>",
                            "<tr><td>150</td><td>6</td></tr>",
                            "<tr><td>151</td><td>3</td></tr>",
                            "<tr><td>152</td><td>4</td></tr>",
                            "<tr><td>153</td><td>5</td></tr>",
                            "<tr><td>154</td><td>5</td></tr>",
                            "<tr><td>155</td><td>5</td></tr>",
                            "<tr><td>156</td><td>7</td></tr>",
                            "<tr><td>157</td><td>5</td></tr>",
                            "<tr><td>158</td><td>3</td></tr>",
                            "<tr><td>160</td><td>5</td></tr>",
                            "<tr><td>161</td><td>6</td></tr>",
                            "<tr><td>162</td><td>3</td></tr>",
                            "<tr><td>163</td><td>7</td></tr>",
                            "<tr><td>164</td><td>5</td></tr>",
                            "<tr><td>165</td><td>7</td></tr>",
                            "<tr><td>166</td><td>3</td></tr>",
                            "<tr><td>167</td><td>2</td></tr>",
                            "<tr><td>168</td><td>5</td></tr>",
                            "<tr><td>169</td><td>6</td></tr>",
                            "<tr><td>170</td><td>5</td></tr>",
                            "<tr><td>171</td><td>5</td></tr>",
                            "<tr><td>172</td><td>9</td></tr>",
                            "<tr><td>173</td><td>4</td></tr>",
                            "<tr><td>174</td><td>4</td></tr>",
                            "<tr><td>175</td><td>5</td></tr>",
                            "<tr><td>176</td><td>6</td></tr>",
                            "<tr><td>177</td><td>4</td></tr>",
                            "<tr><td>178</td><td>4</td></tr>",
                            "<tr><td>179</td><td>3</td></tr>",
                            "<tr><td>180</td><td>3</td></tr>",
                            "<tr><td>181</td><td>6</td></tr>",
                            "<tr><td>182</td><td>12</td></tr>",
                            "<tr><td>183</td><td>4</td></tr>",
                            "<tr><td>184</td><td>4</td></tr>",
                            "<tr><td>185</td><td>12</td></tr>",
                            "<tr><td>186</td><td>4</td></tr>",
                            "<tr><td>187</td><td>7</td></tr>",
                            "<tr><td>188</td><td>6</td></tr>",
                            "<tr><td>189</td><td>5</td></tr>",
                            "<tr><td>190</td><td>5</td></tr>",
                            "<tr><td>191</td><td>5</td></tr>",
                            "<tr><td>192</td><td>2</td></tr>",
                            "<tr><td>193</td><td>7</td></tr>",
                            "<tr><td>194</td><td>1</td></tr>",
                            "<tr><td>195</td><td>6</td></tr>",
                            "<tr><td>196</td><td>4</td></tr>",
                            "<tr><td>197</td><td>6</td></tr>",
                            "<tr><td>198</td><td>8</td></tr>",
                            "</table>"
                        ]
                    }
                }
            ],
            "execution_count": 8
        },
        {
            "cell_type": "code",
            "source": [
                "SELECT *\r\n",
                "FROM Vendeg v JOIN Foglalas f ON v.USERNEV = f.UGYFEL_FK\r\n",
                "                JOIN Szoba sz ON f.UGYFEL_FK = sz.SZOBA_ID\r\n",
                "WITH MAX(sz.FEROHELY)\r\n",
                ""
            ],
            "metadata": {
                "azdata_cell_guid": "7dc41c56-13e3-4f4c-aba5-68c38b0c8bcf",
                "language": "sql"
            },
            "outputs": [
                {
                    "output_type": "error",
                    "evalue": "Msg 319, Level 15, State 1, Line 4\r\nIncorrect syntax near the keyword 'with'. If this statement is a common table expression, an xmlnamespaces clause or a change tracking context clause, the previous statement must be terminated with a semicolon.",
                    "ename": "",
                    "traceback": []
                },
                {
                    "output_type": "display_data",
                    "data": {
                        "text/html": "Total execution time: 00:00:00.001"
                    },
                    "metadata": {}
                }
            ],
            "execution_count": 9
        },
        {
            "cell_type": "code",
            "source": [
                "WITH utolso_5 AS (SELECT sz.SZOBA_ID, f.FOGLALAS_PK)\r\n",
                "SELECT sz.SZOBA_ID, AVG(f.FELNOTT_SZAM + f.GYERMEK_SZAM) AS 'AVG'\r\n",
                "FROM Szoba sz JOIN Foglalas f ON sz.SZOBA_ID = f.SZOBA_FK"
            ],
            "metadata": {
                "azdata_cell_guid": "67509b07-636f-4f73-8b82-a82d2143c07c",
                "language": "sql"
            },
            "outputs": [],
            "execution_count": null
        },
        {
            "cell_type": "code",
            "source": [
                "CREATE TABLE #MASKED_GUEST (\r\n",
                "    USERNEV NVARCHAR(100) PRIMARY KEY,\r\n",
                "    NEV NVARCHAR(100) MASKED WITH (FUNCTION = 'partial(2, \"XXXX\", 3)'),\r\n",
                "    EMAIL NVARCHAR(100),\r\n",
                "    SZAML_CIM NVARCHAR(100),\r\n",
                "    SZUL_DAT DATE\r\n",
                ")"
            ],
            "metadata": {
                "azdata_cell_guid": "9eaec302-ecf3-4d55-b252-02fa26170302",
                "language": "sql"
            },
            "outputs": [
                {
                    "output_type": "display_data",
                    "data": {
                        "text/html": "Commands completed successfully."
                    },
                    "metadata": {}
                },
                {
                    "output_type": "display_data",
                    "data": {
                        "text/html": "Total execution time: 00:00:00.005"
                    },
                    "metadata": {}
                }
            ],
            "execution_count": 15
        }
    ]
}