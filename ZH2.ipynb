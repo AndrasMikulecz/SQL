{
    "metadata": {
        "kernelspec": {
            "name": "SQL",
            "display_name": "SQL",
            "language": "sql"
        },
        "language_info": {
            "name": "sql",
            "version": ""
        }
    },
    "nbformat_minor": 2,
    "nbformat": 4,
    "cells": [
        {
            "cell_type": "code",
            "source": [
                "SELECT TIPUS, CSILLAGOK_SZAMA, HELY, ROUND(AVG(CSILLAGOK_SZAMA), 2) AS 'Átlag_csillag'\r\n",
                "FROM Szallashely\r\n",
                "WHERE SZALLAS_NEV NOT LIKE '%-%'\r\n",
                "GROUP BY TIPUS, HELY"
            ],
            "metadata": {
                "azdata_cell_guid": "0f106469-ebd6-40c4-aff3-dfc8400af31c",
                "language": "sql"
            },
            "outputs": [
                {
                    "output_type": "error",
                    "evalue": "Msg 208, Level 16, State 1, Line 1\r\nInvalid object name 'szallashely'.",
                    "ename": "",
                    "traceback": []
                },
                {
                    "output_type": "display_data",
                    "data": {
                        "text/html": "Total execution time: 00:00:00.001"
                    },
                    "metadata": {}
                }
            ],
            "execution_count": 6
        },
        {
            "cell_type": "code",
            "source": [
                "SELECT sz.SZOBA_ID, f.FOGLALAS_FK, DATEDIFF(DAY, f.METTOL, f.MEDDIG), DATEDIFF(DAY(), f.METTOL, f.MEDDIG) LAG(*, 1, 0 )\r\n",
                "FROM Szoba sz JOIN Foglalas f ON sz.SZOBA_ID = f.SZOBA_FK\r\n",
                ""
            ],
            "metadata": {
                "azdata_cell_guid": "39ef96f3-6af7-4e0a-a9d6-4e81f14676d7",
                "language": "sql"
            },
            "outputs": [
                {
                    "output_type": "error",
                    "evalue": "Msg 174, Level 15, State 1, Line 1\r\nThe day function requires 1 argument(s).",
                    "ename": "",
                    "traceback": []
                },
                {
                    "output_type": "display_data",
                    "data": {
                        "text/html": "Total execution time: 00:00:00.001"
                    },
                    "metadata": {}
                }
            ],
            "execution_count": 8
        },
        {
            "cell_type": "code",
            "source": [
                "SELECT f.*, v.NEV AS 'Ügyfél_neve'\r\n",
                "FROM Foglalas f JOIN Vendeg v ON f.UGYFEL_FK = v.USERNEV\r\n",
                "WHERE FELNOTT_SZAM+GYERMEK_SZAM <(\r\n",
                "    SELECT AVG(FELNOTT_SZAM+GYERMEK_SZAM)\r\n",
                "    FROM Foglalas\r\n",
                ")"
            ],
            "metadata": {
                "azdata_cell_guid": "f3a5dc2b-0c57-47ff-b2bc-073cdace6ad0",
                "language": "sql"
            },
            "outputs": [],
            "execution_count": null
        }
    ]
}